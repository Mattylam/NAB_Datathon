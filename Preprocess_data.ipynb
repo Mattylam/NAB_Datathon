{
 "cells": [
  {
   "cell_type": "code",
   "execution_count": 1,
   "id": "59aafb82",
   "metadata": {},
   "outputs": [
    {
     "name": "stderr",
     "output_type": "stream",
     "text": [
      "/opt/anaconda3/lib/python3.9/site-packages/openpyxl/worksheet/_read_only.py:79: UserWarning: Data Validation extension is not supported and will be removed\n",
      "  for idx, row in parser.parse():\n"
     ]
    },
    {
     "name": "stdout",
     "output_type": "stream",
     "text": [
      "            Year Jurisdiction                Category       Type  \\\n",
      "0      2020-2021          ACT               Biosolids  Biosolids   \n",
      "1      2020-2021          ACT               Biosolids  Biosolids   \n",
      "2      2020-2021          ACT               Biosolids  Biosolids   \n",
      "3      2020-2021          ACT               Biosolids  Biosolids   \n",
      "4      2020-2021          ACT               Biosolids        NaN   \n",
      "...          ...          ...                     ...        ...   \n",
      "71491  2006-2007           WA  Unclassified materials        NaN   \n",
      "71492  2006-2007           WA  Unclassified materials        NaN   \n",
      "71493  2006-2007           WA  Unclassified materials        NaN   \n",
      "71494  2006-2007           WA  Unclassified materials        NaN   \n",
      "71495  2006-2007           WA  Unclassified materials        NaN   \n",
      "\n",
      "      Classification Total type Stream                  Management  \\\n",
      "0               Type        NaN    C&I              Other disposal   \n",
      "1               Type        NaN    C&I                   Recycling   \n",
      "2               Type        NaN  Total              Other disposal   \n",
      "3               Type        NaN  Total                   Recycling   \n",
      "4           Category        NaN    C&I              Other disposal   \n",
      "...              ...        ...    ...                         ...   \n",
      "71491       Category        NaN    MSW                   Recycling   \n",
      "71492       Category        NaN  Total  Energy from waste facility   \n",
      "71493       Category        NaN  Total                    Landfill   \n",
      "71494       Category        NaN  Total                    Landfill   \n",
      "71495       Category        NaN  Total                   Recycling   \n",
      "\n",
      "                  Fate        Tonnes Core or non-core   Sub-stream  \\\n",
      "0             Disposal  20185.549742       Core waste  03 C&I core   \n",
      "1            Recycling      0.000000       Core waste  03 C&I core   \n",
      "2             Disposal  20185.549742       Core waste     09 Total   \n",
      "3            Recycling      0.000000       Core waste     09 Total   \n",
      "4             Disposal  20185.549742       Core waste  03 C&I core   \n",
      "...                ...           ...              ...          ...   \n",
      "71491        Recycling      0.000000       Core waste       01 MSW   \n",
      "71492  Energy recovery      0.000000       Core waste     09 Total   \n",
      "71493         Disposal      0.000000       Core waste     09 Total   \n",
      "71494  Energy recovery      0.000000       Core waste     09 Total   \n",
      "71495        Recycling      0.000000       Core waste     09 Total   \n",
      "\n",
      "                      Cat. order Cat. no.    Type order Type no.      YearOnly  \n",
      "0                    03 Organics       C3  14 Biosolids      T14  NaN     2020  \n",
      "1                    03 Organics       C3  14 Biosolids      T14  NaN     2020  \n",
      "2                    03 Organics       C3  14 Biosolids      T14  NaN     2020  \n",
      "3                    03 Organics       C3  14 Biosolids      T14  NaN     2020  \n",
      "4                    03 Organics       C3           NaN      NaN  NaN     2020  \n",
      "...                          ...      ...           ...      ...  ...      ...  \n",
      "71491  10 Unclassified materials      C10           NaN      NaN  NaN     2006  \n",
      "71492  10 Unclassified materials      C10           NaN      NaN  NaN     2006  \n",
      "71493  10 Unclassified materials      C10           NaN      NaN  NaN     2006  \n",
      "71494  10 Unclassified materials      C10           NaN      NaN  NaN     2006  \n",
      "71495  10 Unclassified materials      C10           NaN      NaN  NaN     2006  \n",
      "\n",
      "[71496 rows x 18 columns]\n"
     ]
    }
   ],
   "source": [
    "import pandas as pd\n",
    "\n",
    "# Read the Excel file into a DataFrame\n",
    "df = pd.read_excel('Database.xlsx')\n",
    "\n",
    "# Assuming the column name is 'Year', create a new column with only the year part\n",
    "df['YearOnly'] = df['Year'].str.split('-').str[0]\n",
    "\n",
    "# Export the DataFrame to a new Excel file\n",
    "#df.to_excel('modified_excel_file.xlsx', index=False)\n"
   ]
  },
  {
   "cell_type": "code",
   "execution_count": 3,
   "id": "24fbc861",
   "metadata": {},
   "outputs": [
    {
     "name": "stdout",
     "output_type": "stream",
     "text": [
      "            Year Jurisdiction                Category       Type  \\\n",
      "0      2020-2021          ACT               Biosolids  Biosolids   \n",
      "1      2020-2021          ACT               Biosolids  Biosolids   \n",
      "2      2020-2021          ACT               Biosolids  Biosolids   \n",
      "3      2020-2021          ACT               Biosolids  Biosolids   \n",
      "4      2020-2021          ACT               Biosolids        NaN   \n",
      "...          ...          ...                     ...        ...   \n",
      "71491  2006-2007           WA  Unclassified materials        NaN   \n",
      "71492  2006-2007           WA  Unclassified materials        NaN   \n",
      "71493  2006-2007           WA  Unclassified materials        NaN   \n",
      "71494  2006-2007           WA  Unclassified materials        NaN   \n",
      "71495  2006-2007           WA  Unclassified materials        NaN   \n",
      "\n",
      "      Classification Total type Stream                  Management  \\\n",
      "0               Type        NaN    C&I              Other disposal   \n",
      "1               Type        NaN    C&I                   Recycling   \n",
      "2               Type        NaN  Total              Other disposal   \n",
      "3               Type        NaN  Total                   Recycling   \n",
      "4           Category        NaN    C&I              Other disposal   \n",
      "...              ...        ...    ...                         ...   \n",
      "71491       Category        NaN    MSW                   Recycling   \n",
      "71492       Category        NaN  Total  Energy from waste facility   \n",
      "71493       Category        NaN  Total                    Landfill   \n",
      "71494       Category        NaN  Total                    Landfill   \n",
      "71495       Category        NaN  Total                   Recycling   \n",
      "\n",
      "                  Fate        Tonnes Core or non-core   Sub-stream  \\\n",
      "0             Disposal  20185.549742       Core waste  03 C&I core   \n",
      "1            Recycling      0.000000       Core waste  03 C&I core   \n",
      "2             Disposal  20185.549742       Core waste     09 Total   \n",
      "3            Recycling      0.000000       Core waste     09 Total   \n",
      "4             Disposal  20185.549742       Core waste  03 C&I core   \n",
      "...                ...           ...              ...          ...   \n",
      "71491        Recycling      0.000000       Core waste       01 MSW   \n",
      "71492  Energy recovery      0.000000       Core waste     09 Total   \n",
      "71493         Disposal      0.000000       Core waste     09 Total   \n",
      "71494  Energy recovery      0.000000       Core waste     09 Total   \n",
      "71495        Recycling      0.000000       Core waste     09 Total   \n",
      "\n",
      "                      Cat. order Cat. no.    Type order Type no.      YearOnly  \n",
      "0                    03 Organics       C3  14 Biosolids      T14  NaN     2020  \n",
      "1                    03 Organics       C3  14 Biosolids      T14  NaN     2020  \n",
      "2                    03 Organics       C3  14 Biosolids      T14  NaN     2020  \n",
      "3                    03 Organics       C3  14 Biosolids      T14  NaN     2020  \n",
      "4                    03 Organics       C3           NaN      NaN  NaN     2020  \n",
      "...                          ...      ...           ...      ...  ...      ...  \n",
      "71491  10 Unclassified materials      C10           NaN      NaN  NaN     2006  \n",
      "71492  10 Unclassified materials      C10           NaN      NaN  NaN     2006  \n",
      "71493  10 Unclassified materials      C10           NaN      NaN  NaN     2006  \n",
      "71494  10 Unclassified materials      C10           NaN      NaN  NaN     2006  \n",
      "71495  10 Unclassified materials      C10           NaN      NaN  NaN     2006  \n",
      "\n",
      "[71036 rows x 18 columns]\n"
     ]
    }
   ],
   "source": [
    "# remove Jurisdiction Australia from the excel \n",
    "# Define the condition\n",
    "condition = df['Jurisdiction'] != 'Australia'\n",
    "\n",
    "# Define the condition\n",
    "condition2 = df['Total type'] != 'Mining waste total'\n",
    "\n",
    "combined = condition & condition2\n",
    "\n",
    "# Use boolean indexing to retrieve the rows that meet the combined condition\n",
    "df_cleaned = df[combined]\n",
    "\n",
    "print(df_cleaned)\n",
    "\n"
   ]
  },
  {
   "cell_type": "code",
   "execution_count": 4,
   "id": "1768468e",
   "metadata": {},
   "outputs": [],
   "source": [
    "# Export the DataFrame to a new Excel file\n",
    "df_cleaned.to_excel('modified_database.xlsx', index=False)"
   ]
  },
  {
   "cell_type": "code",
   "execution_count": null,
   "id": "06d432be",
   "metadata": {},
   "outputs": [],
   "source": []
  }
 ],
 "metadata": {
  "kernelspec": {
   "display_name": "Python 3 (ipykernel)",
   "language": "python",
   "name": "python3"
  },
  "language_info": {
   "codemirror_mode": {
    "name": "ipython",
    "version": 3
   },
   "file_extension": ".py",
   "mimetype": "text/x-python",
   "name": "python",
   "nbconvert_exporter": "python",
   "pygments_lexer": "ipython3",
   "version": "3.9.16"
  }
 },
 "nbformat": 4,
 "nbformat_minor": 5
}
